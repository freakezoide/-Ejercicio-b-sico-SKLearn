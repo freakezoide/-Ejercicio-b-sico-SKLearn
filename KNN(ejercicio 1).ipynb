{
  "nbformat": 4,
  "nbformat_minor": 0,
  "metadata": {
    "colab": {
      "provenance": [],
      "authorship_tag": "ABX9TyNeWmQeftBN7duWs7WRYvTM",
      "include_colab_link": true
    },
    "kernelspec": {
      "name": "python3",
      "display_name": "Python 3"
    },
    "language_info": {
      "name": "python"
    }
  },
  "cells": [
    {
      "cell_type": "markdown",
      "metadata": {
        "id": "view-in-github",
        "colab_type": "text"
      },
      "source": [
        "<a href=\"https://colab.research.google.com/github/freakezoide/-Ejercicio-b-sico-SKLearn/blob/main/KNN(ejercicio%201).ipynb\" target=\"_parent\"><img src=\"https://colab.research.google.com/assets/colab-badge.svg\" alt=\"Open In Colab\"/></a>"
      ]
    },
    {
      "cell_type": "code",
      "execution_count": null,
      "metadata": {
        "id": "mxUog-kMdLnf"
      },
      "outputs": [],
      "source": [
        "# Datos de clientes bancarios:credito\n",
        "import pandas as pd\n",
        "import numpy as np\n",
        "import matplotlib.pyplot as plt\n",
        "from sklearn import preprocessing\n",
        "from sklearn.neighbors import KNeighborsClassifier\n",
        "\n",
        "clientes=pd.read_csv(\"creditos.csv\")\n",
        "clientes\n",
        "\n"
      ]
    },
    {
      "cell_type": "markdown",
      "source": [
        "# Pagadores vs Deudores"
      ],
      "metadata": {
        "id": "Nuhelb_ijPVy"
      }
    },
    {
      "cell_type": "code",
      "source": [
        "buenos = clientes[clientes['cumplio'] == 0]\n",
        "malos = clientes[clientes['cumplio'] == 1]\n",
        "buenos, malos"
      ],
      "metadata": {
        "id": "ECHd2Lbejx_A"
      },
      "execution_count": null,
      "outputs": []
    },
    {
      "cell_type": "markdown",
      "source": [
        "Grafica: PagadoresVS Deudores\n"
      ],
      "metadata": {
        "id": "ZcDgqA9Wl5Sb"
      }
    },
    {
      "cell_type": "code",
      "source": [
        "plt.scatter(buenos[\"edad\"],buenos[\"credito\"],\n",
        "            marker=\"*\" , s=150, color=\"skyblue\",\n",
        "            label=\"si pago (Clase: 1)\")\n",
        "\n",
        "plt.scatter(malos[\"edad\"],malos[\"credito\"],\n",
        "            marker=\"*\" , s=150, color=\"red\",\n",
        "            label=\"no pago (Clase: 0)\")\n",
        "\n",
        "plt.xlabel(\"Monto del credito\")\n",
        "plt.ylabel(\"edad\")\n",
        "plt.legend(bbox_to_anchor=(1,  0.2))\n",
        "plt.show()"
      ],
      "metadata": {
        "id": "NwS4y7FbmNuQ"
      },
      "execution_count": null,
      "outputs": []
    },
    {
      "cell_type": "markdown",
      "source": [
        "Preparacion de los datos"
      ],
      "metadata": {
        "id": "Ye7-gJYiolTV"
      }
    },
    {
      "cell_type": "code",
      "source": [
        "datos = clientes[[\"edad\", \"credito\"]]\n",
        "clase = clientes[\"cumplio\"]\n",
        "\n",
        "\n",
        "escalador = preprocessing.MinMaxScaler()\n",
        "\n",
        "datos = escalador.fit_transform(datos)\n",
        "datos"
      ],
      "metadata": {
        "id": "SNrHFh-qosIh"
      },
      "execution_count": null,
      "outputs": []
    },
    {
      "cell_type": "markdown",
      "source": [
        "Creacion del modelo KNN valor de K"
      ],
      "metadata": {
        "id": "F7jMaBJ2qimm"
      }
    },
    {
      "cell_type": "code",
      "source": [
        "clasificador = KNeighborsClassifier(n_neighbors=3)\n",
        "clasificador.fit(datos, clase)"
      ],
      "metadata": {
        "id": "5nXLBZP7qqgg"
      },
      "execution_count": null,
      "outputs": []
    },
    {
      "cell_type": "markdown",
      "source": [
        "Nuevo solicitante"
      ],
      "metadata": {
        "id": "xq3plKc-q8JG"
      }
    },
    {
      "cell_type": "code",
      "source": [
        "edad = 53\n",
        "monto = 350000\n",
        "\n",
        "#Escalar los datos del nuevo solicitante\n",
        "solicitante = escalador.transform([[edad, monto]])\n",
        "print(\"clase\", clasificador.predict(solicitante))\n",
        "print(\"probabilidades por clase\" , clasificador.predict_proba(solicitante))\n",
        "#Calcular clase y probabilidades\n",
        "\n",
        "#Codigo para graficar\n",
        "plt.scatter(buenos[\"edad\"],buenos[\"credito\"],\n",
        "            marker=\"*\" , s=150, color=\"skyblue\",\n",
        "            label=\"si pago (Clase: 1)\")\n",
        "plt.scatter(malos[\"edad\"],malos[\"credito\"],\n",
        "            marker=\"o\" , s=150, color=\"salmon\",\n",
        "            label=\"no pago (Clase: 0)\")\n",
        "plt.scatter(edad,monto,marker=\"P\" , s=250, color=\"green\" , label=\"solicitante\")\n",
        "plt.xlabel(\"Monto del credito\")\n",
        "plt.ylabel(\"edad\")\n",
        "plt.legend(bbox_to_anchor=(1,  0.3))\n",
        "plt.show()"
      ],
      "metadata": {
        "id": "XIpv62UjrA5-"
      },
      "execution_count": null,
      "outputs": []
    },
    {
      "cell_type": "markdown",
      "source": [
        "Regiones de las clases\n",
        "\n",
        "  Pagadores Vs deudores"
      ],
      "metadata": {
        "id": "uDA3Q4aXtkGX"
      }
    },
    {
      "cell_type": "code",
      "source": [
        "#Datos sinténticos de todos Los posibles solicitantes\n",
        "creditos = np.array([np.arange(100000, 600010, 1000)]*43).reshape(1, - 1)\n",
        "edades = np. array( [np. arange(18, 61) ]*501). reshape(1, - 1)\n",
        "todos = pd.DataFrame(np.stack((edades, creditos), axis=2) [0],\n",
        "columns=[\"edad\", \"credito\"])\n",
        "#Escalar Los datos\n",
        "solicitantes = escalador. transform(todos)\n",
        "#Predecir todas Las clases\n",
        "clases_resultantes = clasificador.predict(solicitantes)\n",
        "#Código para graficar\n",
        "buenos = todos[clases_resultantes == 1]\n",
        "malos = todos[clases_resultantes == 0]\n",
        "plt.scatter(buenos[\"edad\"],buenos[\"credito\"],\n",
        "            marker=\"*\" , s=150, color=\"skyblue\",\n",
        "            label=\"si pago (Clase: 1)\")\n",
        "plt.scatter(malos[\"edad\"],malos[\"credito\"],\n",
        "            marker=\"o\" , s=150, color=\"salmon\",\n",
        "            label=\"no pago (Clase: 0)\")\n",
        "plt.xlabel(\"Monto del credito\")\n",
        "plt.ylabel(\"edad\")\n",
        "plt.legend(bbox_to_anchor=(1,  0.3))\n",
        "plt.show()\n",
        "\n"
      ],
      "metadata": {
        "id": "n1MR3b1FtwYL"
      },
      "execution_count": null,
      "outputs": []
    }
  ]
}